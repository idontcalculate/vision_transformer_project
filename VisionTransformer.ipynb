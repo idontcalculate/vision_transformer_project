{
  "nbformat": 4,
  "nbformat_minor": 0,
  "metadata": {
    "accelerator": "GPU",
    "colab": {
      "name": "VisionTransformer.ipynb",
      "provenance": [],
      "machine_shape": "hm",
      "authorship_tag": "ABX9TyPZDMrBmhK+Qv61KdxPKmGf",
      "include_colab_link": true
    },
    "kernelspec": {
      "display_name": "Python 3",
      "name": "python3"
    },
    "language_info": {
      "name": "python"
    }
  },
  "cells": [
    {
      "cell_type": "markdown",
      "metadata": {
        "id": "view-in-github",
        "colab_type": "text"
      },
      "source": [
        "<a href=\"https://colab.research.google.com/github/idontcalculate/vision_transformer_project/blob/main/VisionTransformer.ipynb\" target=\"_parent\"><img src=\"https://colab.research.google.com/assets/colab-badge.svg\" alt=\"Open In Colab\"/></a>"
      ]
    },
    {
      "cell_type": "markdown",
      "metadata": {
        "id": "tyC3d5XiMgCy"
      },
      "source": [
        "VISION TRANSFORMER \n"
      ]
    },
    {
      "cell_type": "code",
      "metadata": {
        "colab": {
          "base_uri": "https://localhost:8080/"
        },
        "id": "jXDU_A8pjqH4",
        "outputId": "dcc7d99b-87f5-4ada-fc81-3d25ef9b11c6"
      },
      "source": [
        "pip install -U tensorflow-addons"
      ],
      "execution_count": null,
      "outputs": [
        {
          "name": "stdout",
          "output_type": "stream",
          "text": [
            "Collecting tensorflow-addons\n",
            "  Downloading tensorflow_addons-0.14.0-cp37-cp37m-manylinux_2_12_x86_64.manylinux2010_x86_64.whl (1.1 MB)\n",
            "\u001b[?25l\r\u001b[K     |▎                               | 10 kB 36.6 MB/s eta 0:00:01\r\u001b[K     |▋                               | 20 kB 30.4 MB/s eta 0:00:01\r\u001b[K     |▉                               | 30 kB 20.2 MB/s eta 0:00:01\r\u001b[K     |█▏                              | 40 kB 17.1 MB/s eta 0:00:01\r\u001b[K     |█▌                              | 51 kB 9.1 MB/s eta 0:00:01\r\u001b[K     |█▊                              | 61 kB 9.3 MB/s eta 0:00:01\r\u001b[K     |██                              | 71 kB 9.6 MB/s eta 0:00:01\r\u001b[K     |██▍                             | 81 kB 10.7 MB/s eta 0:00:01\r\u001b[K     |██▋                             | 92 kB 11.4 MB/s eta 0:00:01\r\u001b[K     |███                             | 102 kB 9.0 MB/s eta 0:00:01\r\u001b[K     |███▎                            | 112 kB 9.0 MB/s eta 0:00:01\r\u001b[K     |███▌                            | 122 kB 9.0 MB/s eta 0:00:01\r\u001b[K     |███▉                            | 133 kB 9.0 MB/s eta 0:00:01\r\u001b[K     |████▏                           | 143 kB 9.0 MB/s eta 0:00:01\r\u001b[K     |████▍                           | 153 kB 9.0 MB/s eta 0:00:01\r\u001b[K     |████▊                           | 163 kB 9.0 MB/s eta 0:00:01\r\u001b[K     |█████                           | 174 kB 9.0 MB/s eta 0:00:01\r\u001b[K     |█████▎                          | 184 kB 9.0 MB/s eta 0:00:01\r\u001b[K     |█████▋                          | 194 kB 9.0 MB/s eta 0:00:01\r\u001b[K     |██████                          | 204 kB 9.0 MB/s eta 0:00:01\r\u001b[K     |██████▏                         | 215 kB 9.0 MB/s eta 0:00:01\r\u001b[K     |██████▌                         | 225 kB 9.0 MB/s eta 0:00:01\r\u001b[K     |██████▉                         | 235 kB 9.0 MB/s eta 0:00:01\r\u001b[K     |███████                         | 245 kB 9.0 MB/s eta 0:00:01\r\u001b[K     |███████▍                        | 256 kB 9.0 MB/s eta 0:00:01\r\u001b[K     |███████▊                        | 266 kB 9.0 MB/s eta 0:00:01\r\u001b[K     |████████                        | 276 kB 9.0 MB/s eta 0:00:01\r\u001b[K     |████████▎                       | 286 kB 9.0 MB/s eta 0:00:01\r\u001b[K     |████████▋                       | 296 kB 9.0 MB/s eta 0:00:01\r\u001b[K     |████████▉                       | 307 kB 9.0 MB/s eta 0:00:01\r\u001b[K     |█████████▏                      | 317 kB 9.0 MB/s eta 0:00:01\r\u001b[K     |█████████▌                      | 327 kB 9.0 MB/s eta 0:00:01\r\u001b[K     |█████████▊                      | 337 kB 9.0 MB/s eta 0:00:01\r\u001b[K     |██████████                      | 348 kB 9.0 MB/s eta 0:00:01\r\u001b[K     |██████████▍                     | 358 kB 9.0 MB/s eta 0:00:01\r\u001b[K     |██████████▋                     | 368 kB 9.0 MB/s eta 0:00:01\r\u001b[K     |███████████                     | 378 kB 9.0 MB/s eta 0:00:01\r\u001b[K     |███████████▎                    | 389 kB 9.0 MB/s eta 0:00:01\r\u001b[K     |███████████▌                    | 399 kB 9.0 MB/s eta 0:00:01\r\u001b[K     |███████████▉                    | 409 kB 9.0 MB/s eta 0:00:01\r\u001b[K     |████████████▏                   | 419 kB 9.0 MB/s eta 0:00:01\r\u001b[K     |████████████▍                   | 430 kB 9.0 MB/s eta 0:00:01\r\u001b[K     |████████████▊                   | 440 kB 9.0 MB/s eta 0:00:01\r\u001b[K     |█████████████                   | 450 kB 9.0 MB/s eta 0:00:01\r\u001b[K     |█████████████▎                  | 460 kB 9.0 MB/s eta 0:00:01\r\u001b[K     |█████████████▋                  | 471 kB 9.0 MB/s eta 0:00:01\r\u001b[K     |██████████████                  | 481 kB 9.0 MB/s eta 0:00:01\r\u001b[K     |██████████████▏                 | 491 kB 9.0 MB/s eta 0:00:01\r\u001b[K     |██████████████▌                 | 501 kB 9.0 MB/s eta 0:00:01\r\u001b[K     |██████████████▉                 | 512 kB 9.0 MB/s eta 0:00:01\r\u001b[K     |███████████████                 | 522 kB 9.0 MB/s eta 0:00:01\r\u001b[K     |███████████████▍                | 532 kB 9.0 MB/s eta 0:00:01\r\u001b[K     |███████████████▊                | 542 kB 9.0 MB/s eta 0:00:01\r\u001b[K     |████████████████                | 552 kB 9.0 MB/s eta 0:00:01\r\u001b[K     |████████████████▎               | 563 kB 9.0 MB/s eta 0:00:01\r\u001b[K     |████████████████▋               | 573 kB 9.0 MB/s eta 0:00:01\r\u001b[K     |████████████████▉               | 583 kB 9.0 MB/s eta 0:00:01\r\u001b[K     |█████████████████▏              | 593 kB 9.0 MB/s eta 0:00:01\r\u001b[K     |█████████████████▌              | 604 kB 9.0 MB/s eta 0:00:01\r\u001b[K     |█████████████████▊              | 614 kB 9.0 MB/s eta 0:00:01\r\u001b[K     |██████████████████              | 624 kB 9.0 MB/s eta 0:00:01\r\u001b[K     |██████████████████▍             | 634 kB 9.0 MB/s eta 0:00:01\r\u001b[K     |██████████████████▋             | 645 kB 9.0 MB/s eta 0:00:01\r\u001b[K     |███████████████████             | 655 kB 9.0 MB/s eta 0:00:01\r\u001b[K     |███████████████████▎            | 665 kB 9.0 MB/s eta 0:00:01\r\u001b[K     |███████████████████▌            | 675 kB 9.0 MB/s eta 0:00:01\r\u001b[K     |███████████████████▉            | 686 kB 9.0 MB/s eta 0:00:01\r\u001b[K     |████████████████████▏           | 696 kB 9.0 MB/s eta 0:00:01\r\u001b[K     |████████████████████▍           | 706 kB 9.0 MB/s eta 0:00:01\r\u001b[K     |████████████████████▊           | 716 kB 9.0 MB/s eta 0:00:01\r\u001b[K     |█████████████████████           | 727 kB 9.0 MB/s eta 0:00:01\r\u001b[K     |█████████████████████▎          | 737 kB 9.0 MB/s eta 0:00:01\r\u001b[K     |█████████████████████▋          | 747 kB 9.0 MB/s eta 0:00:01\r\u001b[K     |██████████████████████          | 757 kB 9.0 MB/s eta 0:00:01\r\u001b[K     |██████████████████████▏         | 768 kB 9.0 MB/s eta 0:00:01\r\u001b[K     |██████████████████████▌         | 778 kB 9.0 MB/s eta 0:00:01\r\u001b[K     |██████████████████████▉         | 788 kB 9.0 MB/s eta 0:00:01\r\u001b[K     |███████████████████████         | 798 kB 9.0 MB/s eta 0:00:01\r\u001b[K     |███████████████████████▍        | 808 kB 9.0 MB/s eta 0:00:01\r\u001b[K     |███████████████████████▊        | 819 kB 9.0 MB/s eta 0:00:01\r\u001b[K     |████████████████████████        | 829 kB 9.0 MB/s eta 0:00:01\r\u001b[K     |████████████████████████▎       | 839 kB 9.0 MB/s eta 0:00:01\r\u001b[K     |████████████████████████▋       | 849 kB 9.0 MB/s eta 0:00:01\r\u001b[K     |████████████████████████▉       | 860 kB 9.0 MB/s eta 0:00:01\r\u001b[K     |█████████████████████████▏      | 870 kB 9.0 MB/s eta 0:00:01\r\u001b[K     |█████████████████████████▍      | 880 kB 9.0 MB/s eta 0:00:01\r\u001b[K     |█████████████████████████▊      | 890 kB 9.0 MB/s eta 0:00:01\r\u001b[K     |██████████████████████████      | 901 kB 9.0 MB/s eta 0:00:01\r\u001b[K     |██████████████████████████▎     | 911 kB 9.0 MB/s eta 0:00:01\r\u001b[K     |██████████████████████████▋     | 921 kB 9.0 MB/s eta 0:00:01\r\u001b[K     |███████████████████████████     | 931 kB 9.0 MB/s eta 0:00:01\r\u001b[K     |███████████████████████████▏    | 942 kB 9.0 MB/s eta 0:00:01\r\u001b[K     |███████████████████████████▌    | 952 kB 9.0 MB/s eta 0:00:01\r\u001b[K     |███████████████████████████▉    | 962 kB 9.0 MB/s eta 0:00:01\r\u001b[K     |████████████████████████████    | 972 kB 9.0 MB/s eta 0:00:01\r\u001b[K     |████████████████████████████▍   | 983 kB 9.0 MB/s eta 0:00:01\r\u001b[K     |████████████████████████████▊   | 993 kB 9.0 MB/s eta 0:00:01\r\u001b[K     |█████████████████████████████   | 1.0 MB 9.0 MB/s eta 0:00:01\r\u001b[K     |█████████████████████████████▎  | 1.0 MB 9.0 MB/s eta 0:00:01\r\u001b[K     |█████████████████████████████▋  | 1.0 MB 9.0 MB/s eta 0:00:01\r\u001b[K     |█████████████████████████████▉  | 1.0 MB 9.0 MB/s eta 0:00:01\r\u001b[K     |██████████████████████████████▏ | 1.0 MB 9.0 MB/s eta 0:00:01\r\u001b[K     |██████████████████████████████▌ | 1.1 MB 9.0 MB/s eta 0:00:01\r\u001b[K     |██████████████████████████████▊ | 1.1 MB 9.0 MB/s eta 0:00:01\r\u001b[K     |███████████████████████████████ | 1.1 MB 9.0 MB/s eta 0:00:01\r\u001b[K     |███████████████████████████████▍| 1.1 MB 9.0 MB/s eta 0:00:01\r\u001b[K     |███████████████████████████████▋| 1.1 MB 9.0 MB/s eta 0:00:01\r\u001b[K     |████████████████████████████████| 1.1 MB 9.0 MB/s eta 0:00:01\r\u001b[K     |████████████████████████████████| 1.1 MB 9.0 MB/s \n",
            "\u001b[?25hRequirement already satisfied: typeguard>=2.7 in /usr/local/lib/python3.7/dist-packages (from tensorflow-addons) (2.7.1)\n",
            "Installing collected packages: tensorflow-addons\n",
            "Successfully installed tensorflow-addons-0.14.0\n"
          ]
        }
      ]
    },
    {
      "cell_type": "code",
      "metadata": {
        "id": "oYRmXFrzjt0s"
      },
      "source": [
        "#MODULES\n",
        "import numpy as np\n",
        "import tensorflow as tf\n",
        "from tensorflow import keras\n",
        "from tensorflow.keras import layers\n",
        "import tensorflow_addons as tfa\n",
        "import tensorflow_datasets as tfds"
      ],
      "execution_count": null,
      "outputs": []
    },
    {
      "cell_type": "code",
      "metadata": {
        "colab": {
          "base_uri": "https://localhost:8080/"
        },
        "id": "w9_PlKkd7pcI",
        "outputId": "36443c73-dbd4-4f73-9ed5-83e3ca807221"
      },
      "source": [
        "#LOAD DATASET \n",
        "num_classes = 10\n",
        "input_shape = (32, 32, 3)\n",
        "\n",
        "(x_train, y_train), (x_test, y_test) = keras.datasets.cifar10.load_data()\n",
        "\n",
        "print(f\"x_train shape: {x_train.shape} - y_train shape: {y_train.shape}\")\n",
        "print(f\"x_test shape: {x_test.shape} - y_test shape: {y_test.shape}\")"
      ],
      "execution_count": null,
      "outputs": [
        {
          "name": "stdout",
          "output_type": "stream",
          "text": [
            "Downloading data from https://www.cs.toronto.edu/~kriz/cifar-10-python.tar.gz\n",
            "170500096/170498071 [==============================] - 4s 0us/step\n",
            "170508288/170498071 [==============================] - 4s 0us/step\n",
            "x_train shape: (50000, 32, 32, 3) - y_train shape: (50000, 1)\n",
            "x_test shape: (10000, 32, 32, 3) - y_test shape: (10000, 1)\n"
          ]
        }
      ]
    },
    {
      "cell_type": "code",
      "metadata": {
        "id": "NtUPq993EZQv"
      },
      "source": [
        "learning_rate = 0.001\n",
        "weight_decay = 0.0001\n",
        "batch_size = 256\n",
        "num_epochs = 100\n",
        "image_size = 72  # We'll resize input images to this size\n",
        "patch_size = 6  # Size of the patches to be extract from the input images\n",
        "num_patches = (image_size // patch_size) ** 2\n",
        "projection_dim = 64\n",
        "num_heads = 4\n",
        "transformer_units = [\n",
        "    projection_dim * 2,\n",
        "    projection_dim,\n",
        "]  # Size of the transformer layers\n",
        "transformer_layers = 8\n",
        "mlp_head_units = [2048, 1024]  # Size of the dense layers of the final classifier\n"
      ],
      "execution_count": null,
      "outputs": []
    },
    {
      "cell_type": "code",
      "metadata": {
        "id": "vLG-7YixkbXI"
      },
      "source": [
        "#CONFIGURE HYPERPARAMETERS \n",
        "learning_rate = 0.001\n",
        "weight_decay = 0.0001\n",
        "batch_size = 32\n",
        "num_epochs = 100\n",
        "image_size = 32  # We'll resize input images to this size\n",
        "patch_size = 6  # Size of the patches to be extract from the input images\n",
        "num_patches = (image_size // patch_size) ** 2\n",
        "projection_dim = 64\n",
        "num_heads = 4\n",
        "transformer_units = [\n",
        "    projection_dim * 2,\n",
        "    projection_dim,\n",
        "]  # Size of the transformer layers\n",
        "transformer_layers = 8\n",
        "mlp_head_units = [2048, 1024]  # Size of the dense layers of the final classifier"
      ],
      "execution_count": null,
      "outputs": []
    },
    {
      "cell_type": "code",
      "metadata": {
        "id": "YZAmu72w8r_r"
      },
      "source": [
        "#DATA AUGMENTATION\n",
        "data_augmentation = keras.Sequential(\n",
        "    [\n",
        "        layers.Normalization(),\n",
        "        layers.Resizing(image_size, image_size),\n",
        "        layers.RandomFlip(\"horizontal\"),\n",
        "        layers.RandomRotation(factor=0.02),\n",
        "        layers.RandomZoom(\n",
        "            height_factor=0.2, width_factor=0.2\n",
        "        ),\n",
        "    ],\n",
        "    name=\"data_augmentation\",\n",
        ")\n",
        "# Compute the mean and the variance of the training data for normalization.\n",
        "data_augmentation.layers[0].adapt(x_train)"
      ],
      "execution_count": null,
      "outputs": []
    },
    {
      "cell_type": "code",
      "metadata": {
        "id": "YuJFYOjm-SQO"
      },
      "source": [
        "#MULTILAYER PERCEPTRON \n",
        "def mlp(x, hidden_units, dropout_rate):\n",
        "    for units in hidden_units:\n",
        "        x = layers.Dense(units, activation=tf.nn.gelu)(x)\n",
        "        x = layers.Dropout(dropout_rate)(x)\n",
        "    return x"
      ],
      "execution_count": null,
      "outputs": []
    },
    {
      "cell_type": "code",
      "metadata": {
        "id": "XBFHzAY9-h44"
      },
      "source": [
        "#PATCH CREATION \n",
        "class Patches(layers.Layer):\n",
        "    def __init__(self, patch_size):\n",
        "        super(Patches, self).__init__()\n",
        "        self.patch_size = patch_size\n",
        "\n",
        "    def call(self, images):\n",
        "        batch_size = tf.shape(images)[0]\n",
        "        patches = tf.image.extract_patches(\n",
        "            images=images,\n",
        "            sizes=[1, self.patch_size, self.patch_size, 1],\n",
        "            strides=[1, self.patch_size, self.patch_size, 1],\n",
        "            rates=[1, 1, 1, 1],\n",
        "            padding=\"VALID\",\n",
        "        )\n",
        "        patch_dims = patches.shape[-1]\n",
        "        patches = tf.reshape(patches, [batch_size, -1, patch_dims])\n",
        "        return patches"
      ],
      "execution_count": null,
      "outputs": []
    },
    {
      "cell_type": "code",
      "metadata": {
        "colab": {
          "base_uri": "https://localhost:8080/",
          "height": 547
        },
        "id": "e786gOqnFK1-",
        "outputId": "f8fed29f-ac46-4c59-b2e7-40063af57bbc"
      },
      "source": [
        "#PLOT FIGURE \n",
        "import matplotlib.pyplot as plt\n",
        "\n",
        "plt.figure(figsize=(4, 4))\n",
        "image = x_train[np.random.choice(range(x_train.shape[0]))]\n",
        "plt.imshow(image.astype(\"uint8\"))\n",
        "plt.axis(\"off\")\n",
        "\n",
        "resized_image = tf.image.resize(\n",
        "    tf.convert_to_tensor([image]), size=(image_size, image_size)\n",
        ")\n",
        "patches = Patches(patch_size)(resized_image)\n",
        "print(f\"Image size: {image_size} X {image_size}\")\n",
        "print(f\"Patch size: {patch_size} X {patch_size}\")\n",
        "print(f\"Patches per image: {patches.shape[1]}\")\n",
        "print(f\"Elements per patch: {patches.shape[-1]}\")\n",
        "\n",
        "n = int(np.sqrt(patches.shape[1]))\n",
        "plt.figure(figsize=(4, 4))\n",
        "for i, patch in enumerate(patches[0]):\n",
        "    ax = plt.subplot(n, n, i + 1)\n",
        "    patch_img = tf.reshape(patch, (patch_size, patch_size, 3))\n",
        "    plt.imshow(patch_img.numpy().astype(\"uint8\"))\n",
        "    plt.axis(\"off\")"
      ],
      "execution_count": null,
      "outputs": [
        {
          "name": "stdout",
          "output_type": "stream",
          "text": [
            "Image size: 32 X 32\n",
            "Patch size: 6 X 6\n",
            "Patches per image: 25\n",
            "Elements per patch: 108\n"
          ]
        },
        {
          "data": {
            "image/png": "[encoded data removed]",
            "text/plain": [
              "<Figure size 288x288 with 1 Axes>"
            ]
          },
          "metadata": {},
          "output_type": "display_data"
        },
        {
          "data": {
            "image/png": "[encoded data removed]",
            "text/plain": [
              "<Figure size 288x288 with 25 Axes>"
            ]
          },
          "metadata": {},
          "output_type": "display_data"
        }
      ]
    },
    {
      "cell_type": "code",
      "metadata": {
        "id": "wfOq9Xe8Ipls"
      },
      "source": [
        "#PATCH ENCODING LAYER\n",
        "class PatchEncoder(layers.Layer):\n",
        "    def __init__(self, num_patches, projection_dim):\n",
        "        super(PatchEncoder, self).__init__()\n",
        "        self.num_patches = num_patches\n",
        "        self.projection = layers.Dense(units=projection_dim)\n",
        "        self.position_embedding = layers.Embedding(\n",
        "            input_dim=num_patches, output_dim=projection_dim\n",
        "        )\n",
        "\n",
        "    def call(self, patch):\n",
        "        positions = tf.range(start=0, limit=self.num_patches, delta=1)\n",
        "        encoded = self.projection(patch) + self.position_embedding(positions)\n",
        "        return encoded"
      ],
      "execution_count": null,
      "outputs": []
    },
    {
      "cell_type": "code",
      "metadata": {
        "id": "cSkBAIBwIyzR"
      },
      "source": [
        "#MODEL+CLASSIFIER\n",
        "def create_vit_classifier():\n",
        "    inputs = layers.Input(shape=input_shape)\n",
        "    # Augment data.\n",
        "    augmented = data_augmentation(inputs)\n",
        "    # Create patches.\n",
        "    patches = Patches(patch_size)(augmented)\n",
        "    # Encode patches.\n",
        "    encoded_patches = PatchEncoder(num_patches, projection_dim)(patches)\n",
        "\n",
        "    # Create multiple layers of the Transformer block.\n",
        "    for _ in range(transformer_layers):\n",
        "        # Layer normalization 1.\n",
        "        x1 = layers.LayerNormalization(epsilon=1e-6)(encoded_patches)\n",
        "        # Create a multi-head attention layer.\n",
        "        attention_output = layers.MultiHeadAttention(\n",
        "            num_heads=num_heads, key_dim=projection_dim, dropout=0.1\n",
        "        )(x1, x1)\n",
        "        # Skip connection 1.\n",
        "        x2 = layers.Add()([attention_output, encoded_patches])\n",
        "        # Layer normalization 2.\n",
        "        x3 = layers.LayerNormalization(epsilon=1e-6)(x2)\n",
        "        # MLP.\n",
        "        x3 = mlp(x3, hidden_units=transformer_units, dropout_rate=0.1)\n",
        "        # Skip connection 2.\n",
        "        encoded_patches = layers.Add()([x3, x2])\n",
        "\n",
        "    # Create a [batch_size, projection_dim] tensor.\n",
        "    representation = layers.LayerNormalization(epsilon=1e-6)(encoded_patches)\n",
        "    representation = layers.Flatten()(representation)\n",
        "    representation = layers.Dropout(0.5)(representation)\n",
        "    # Add MLP.\n",
        "    features = mlp(representation, hidden_units=mlp_head_units, dropout_rate=0.5)\n",
        "    # Classify outputs.\n",
        "    logits = layers.Dense(num_classes)(features)\n",
        "    # Create the Keras model.\n",
        "    model = keras.Model(inputs=inputs, outputs=logits)\n",
        "    return model"
      ],
      "execution_count": null,
      "outputs": []
    },
    {
      "cell_type": "code",
      "metadata": {
        "colab": {
          "base_uri": "https://localhost:8080/"
        },
        "id": "xsD-NNeHI5um",
        "outputId": "4b6527e0-4189-4b7e-e6c5-429272bb477f"
      },
      "source": [
        "# COMPILE TRAIN EVALUATE LOAD\n",
        "def run_experiment(model):\n",
        "    optimizer = tfa.optimizers.AdamW(\n",
        "        learning_rate=learning_rate, weight_decay=weight_decay\n",
        "    )\n",
        "\n",
        "    model.compile(\n",
        "        optimizer=optimizer,\n",
        "        loss=keras.losses.SparseCategoricalCrossentropy(from_logits=True),\n",
        "        metrics=[\n",
        "            keras.metrics.SparseCategoricalAccuracy(name=\"accuracy\"),\n",
        "            keras.metrics.SparseTopKCategoricalAccuracy(5, name=\"top-5-accuracy\"),\n",
        "        ],\n",
        "    )\n",
        "\n",
        "    checkpoint_filepath = \"/tmp/checkpoint\"\n",
        "    checkpoint_callback = keras.callbacks.ModelCheckpoint(\n",
        "        checkpoint_filepath,\n",
        "        monitor=\"val_accuracy\",\n",
        "        save_best_only=True,\n",
        "        save_weights_only=True,\n",
        "    )\n",
        "\n",
        "    history = model.fit(\n",
        "        x=x_train,\n",
        "        y=y_train,\n",
        "        batch_size=batch_size,\n",
        "        epochs=2,\n",
        "        validation_split=0.1,\n",
        "        callbacks=[checkpoint_callback],\n",
        "    )\n",
        "\n",
        "    model.load_weights(checkpoint_filepath)\n",
        "    _, accuracy, top_5_accuracy = model.evaluate(x_test, y_test)\n",
        "    print(f\"Test accuracy: {round(accuracy * 100, 2)}%\")\n",
        "    print(f\"Test top 5 accuracy: {round(top_5_accuracy * 100, 2)}%\")\n",
        "\n",
        "\n",
        "    return history\n",
        "\n",
        "def load_trained_model(weights_path):\n",
        "   model = create_model()\n",
        "   model.load_weights(weights_path)\n",
        "\n",
        "\n",
        "\n",
        "vit_classifier = create_vit_classifier()\n",
        "history = run_experiment(vit_classifier)"
      ],
      "execution_count": 87,
      "outputs": [
        {
          "output_type": "stream",
          "name": "stdout",
          "text": [
            "Epoch 1/2\n",
            "1407/1407 [==============================] - 56s 34ms/step - loss: 1.8833 - accuracy: 0.3311 - top-5-accuracy: 0.8299 - val_loss: 1.5229 - val_accuracy: 0.4498 - val_top-5-accuracy: 0.9060\n",
            "Epoch 2/2\n",
            "1407/1407 [==============================] - 46s 33ms/step - loss: 1.5941 - accuracy: 0.4307 - top-5-accuracy: 0.8950 - val_loss: 1.3708 - val_accuracy: 0.4992 - val_top-5-accuracy: 0.9318\n",
            "313/313 [==============================] - 4s 14ms/step - loss: 1.3592 - accuracy: 0.5063 - top-5-accuracy: 0.9325\n",
            "Test accuracy: 50.63%\n",
            "Test top 5 accuracy: 93.25%\n"
          ]
        }
      ]
    },
    {
      "cell_type": "code",
      "metadata": {
        "colab": {
          "base_uri": "https://localhost:8080/",
          "height": 306
        },
        "id": "0aBCJiBLtxEt",
        "outputId": "53f698ef-5a6e-49ea-9991-dd565505c8ea"
      },
      "source": [
        "model = vit_classifier.save(\"/content/models/vit_classifier_test.h5\")"
      ],
      "execution_count": 96,
      "outputs": [
        {
          "output_type": "error",
          "ename": "NotImplementedError",
          "evalue": "ignored",
          "traceback": [
            "\u001b[0;31m---------------------------------------------------------------------------\u001b[0m",
            "\u001b[0;31mNotImplementedError\u001b[0m                       Traceback (most recent call last)",
            "\u001b[0;32m<ipython-input-96-7b3a291f1d4d>\u001b[0m in \u001b[0;36m<module>\u001b[0;34m()\u001b[0m\n\u001b[0;32m----> 1\u001b[0;31m \u001b[0mmodel\u001b[0m \u001b[0;34m=\u001b[0m \u001b[0mvit_classifier\u001b[0m\u001b[0;34m.\u001b[0m\u001b[0msave\u001b[0m\u001b[0;34m(\u001b[0m\u001b[0;34m\"/content/models/vit_classifier_test.h5\"\u001b[0m\u001b[0;34m)\u001b[0m\u001b[0;34m\u001b[0m\u001b[0;34m\u001b[0m\u001b[0m\n\u001b[0m",
            "\u001b[0;32m/usr/local/lib/python3.7/dist-packages/keras/engine/training.py\u001b[0m in \u001b[0;36msave\u001b[0;34m(self, filepath, overwrite, include_optimizer, save_format, signatures, options, save_traces)\u001b[0m\n\u001b[1;32m   2144\u001b[0m     \u001b[0;31m# pylint: enable=line-too-long\u001b[0m\u001b[0;34m\u001b[0m\u001b[0;34m\u001b[0m\u001b[0;34m\u001b[0m\u001b[0m\n\u001b[1;32m   2145\u001b[0m     save.save_model(self, filepath, overwrite, include_optimizer, save_format,\n\u001b[0;32m-> 2146\u001b[0;31m                     signatures, options, save_traces)\n\u001b[0m\u001b[1;32m   2147\u001b[0m \u001b[0;34m\u001b[0m\u001b[0m\n\u001b[1;32m   2148\u001b[0m   def save_weights(self,\n",
            "\u001b[0;32m/usr/local/lib/python3.7/dist-packages/keras/saving/save.py\u001b[0m in \u001b[0;36msave_model\u001b[0;34m(model, filepath, overwrite, include_optimizer, save_format, signatures, options, save_traces)\u001b[0m\n\u001b[1;32m    144\u001b[0m           'or using `save_weights`.')\n\u001b[1;32m    145\u001b[0m     hdf5_format.save_model_to_hdf5(\n\u001b[0;32m--> 146\u001b[0;31m         model, filepath, overwrite, include_optimizer)\n\u001b[0m\u001b[1;32m    147\u001b[0m   \u001b[0;32melse\u001b[0m\u001b[0;34m:\u001b[0m\u001b[0;34m\u001b[0m\u001b[0;34m\u001b[0m\u001b[0m\n\u001b[1;32m    148\u001b[0m     \u001b[0;32mwith\u001b[0m \u001b[0mgeneric_utils\u001b[0m\u001b[0;34m.\u001b[0m\u001b[0mSharedObjectSavingScope\u001b[0m\u001b[0;34m(\u001b[0m\u001b[0;34m)\u001b[0m\u001b[0;34m:\u001b[0m\u001b[0;34m\u001b[0m\u001b[0;34m\u001b[0m\u001b[0m\n",
            "\u001b[0;32m/usr/local/lib/python3.7/dist-packages/keras/saving/hdf5_format.py\u001b[0m in \u001b[0;36msave_model_to_hdf5\u001b[0;34m(model, filepath, overwrite, include_optimizer)\u001b[0m\n\u001b[1;32m    108\u001b[0m \u001b[0;34m\u001b[0m\u001b[0m\n\u001b[1;32m    109\u001b[0m   \u001b[0;32mtry\u001b[0m\u001b[0;34m:\u001b[0m\u001b[0;34m\u001b[0m\u001b[0;34m\u001b[0m\u001b[0m\n\u001b[0;32m--> 110\u001b[0;31m     \u001b[0mmodel_metadata\u001b[0m \u001b[0;34m=\u001b[0m \u001b[0msaving_utils\u001b[0m\u001b[0;34m.\u001b[0m\u001b[0mmodel_metadata\u001b[0m\u001b[0;34m(\u001b[0m\u001b[0mmodel\u001b[0m\u001b[0;34m,\u001b[0m \u001b[0minclude_optimizer\u001b[0m\u001b[0;34m)\u001b[0m\u001b[0;34m\u001b[0m\u001b[0;34m\u001b[0m\u001b[0m\n\u001b[0m\u001b[1;32m    111\u001b[0m     \u001b[0;32mfor\u001b[0m \u001b[0mk\u001b[0m\u001b[0;34m,\u001b[0m \u001b[0mv\u001b[0m \u001b[0;32min\u001b[0m \u001b[0mmodel_metadata\u001b[0m\u001b[0;34m.\u001b[0m\u001b[0mitems\u001b[0m\u001b[0;34m(\u001b[0m\u001b[0;34m)\u001b[0m\u001b[0;34m:\u001b[0m\u001b[0;34m\u001b[0m\u001b[0;34m\u001b[0m\u001b[0m\n\u001b[1;32m    112\u001b[0m       \u001b[0;32mif\u001b[0m \u001b[0misinstance\u001b[0m\u001b[0;34m(\u001b[0m\u001b[0mv\u001b[0m\u001b[0;34m,\u001b[0m \u001b[0;34m(\u001b[0m\u001b[0mdict\u001b[0m\u001b[0;34m,\u001b[0m \u001b[0mlist\u001b[0m\u001b[0;34m,\u001b[0m \u001b[0mtuple\u001b[0m\u001b[0;34m)\u001b[0m\u001b[0;34m)\u001b[0m\u001b[0;34m:\u001b[0m\u001b[0;34m\u001b[0m\u001b[0;34m\u001b[0m\u001b[0m\n",
            "\u001b[0;32m/usr/local/lib/python3.7/dist-packages/keras/saving/saving_utils.py\u001b[0m in \u001b[0;36mmodel_metadata\u001b[0;34m(model, include_optimizer, require_config)\u001b[0m\n\u001b[1;32m    146\u001b[0m   \u001b[0;32mexcept\u001b[0m \u001b[0mNotImplementedError\u001b[0m \u001b[0;32mas\u001b[0m \u001b[0me\u001b[0m\u001b[0;34m:\u001b[0m\u001b[0;34m\u001b[0m\u001b[0;34m\u001b[0m\u001b[0m\n\u001b[1;32m    147\u001b[0m     \u001b[0;32mif\u001b[0m \u001b[0mrequire_config\u001b[0m\u001b[0;34m:\u001b[0m\u001b[0;34m\u001b[0m\u001b[0;34m\u001b[0m\u001b[0m\n\u001b[0;32m--> 148\u001b[0;31m       \u001b[0;32mraise\u001b[0m \u001b[0me\u001b[0m\u001b[0;34m\u001b[0m\u001b[0;34m\u001b[0m\u001b[0m\n\u001b[0m\u001b[1;32m    149\u001b[0m \u001b[0;34m\u001b[0m\u001b[0m\n\u001b[1;32m    150\u001b[0m   metadata = dict(\n",
            "\u001b[0;32m/usr/local/lib/python3.7/dist-packages/keras/saving/saving_utils.py\u001b[0m in \u001b[0;36mmodel_metadata\u001b[0;34m(model, include_optimizer, require_config)\u001b[0m\n\u001b[1;32m    143\u001b[0m   \u001b[0mmodel_config\u001b[0m \u001b[0;34m=\u001b[0m \u001b[0;34m{\u001b[0m\u001b[0;34m'class_name'\u001b[0m\u001b[0;34m:\u001b[0m \u001b[0mmodel\u001b[0m\u001b[0;34m.\u001b[0m\u001b[0m__class__\u001b[0m\u001b[0;34m.\u001b[0m\u001b[0m__name__\u001b[0m\u001b[0;34m}\u001b[0m\u001b[0;34m\u001b[0m\u001b[0;34m\u001b[0m\u001b[0m\n\u001b[1;32m    144\u001b[0m   \u001b[0;32mtry\u001b[0m\u001b[0;34m:\u001b[0m\u001b[0;34m\u001b[0m\u001b[0;34m\u001b[0m\u001b[0m\n\u001b[0;32m--> 145\u001b[0;31m     \u001b[0mmodel_config\u001b[0m\u001b[0;34m[\u001b[0m\u001b[0;34m'config'\u001b[0m\u001b[0;34m]\u001b[0m \u001b[0;34m=\u001b[0m \u001b[0mmodel\u001b[0m\u001b[0;34m.\u001b[0m\u001b[0mget_config\u001b[0m\u001b[0;34m(\u001b[0m\u001b[0;34m)\u001b[0m\u001b[0;34m\u001b[0m\u001b[0;34m\u001b[0m\u001b[0m\n\u001b[0m\u001b[1;32m    146\u001b[0m   \u001b[0;32mexcept\u001b[0m \u001b[0mNotImplementedError\u001b[0m \u001b[0;32mas\u001b[0m \u001b[0me\u001b[0m\u001b[0;34m:\u001b[0m\u001b[0;34m\u001b[0m\u001b[0;34m\u001b[0m\u001b[0m\n\u001b[1;32m    147\u001b[0m     \u001b[0;32mif\u001b[0m \u001b[0mrequire_config\u001b[0m\u001b[0;34m:\u001b[0m\u001b[0;34m\u001b[0m\u001b[0;34m\u001b[0m\u001b[0m\n",
            "\u001b[0;32m/usr/local/lib/python3.7/dist-packages/keras/engine/functional.py\u001b[0m in \u001b[0;36mget_config\u001b[0;34m(self)\u001b[0m\n\u001b[1;32m    641\u001b[0m \u001b[0;34m\u001b[0m\u001b[0m\n\u001b[1;32m    642\u001b[0m   \u001b[0;32mdef\u001b[0m \u001b[0mget_config\u001b[0m\u001b[0;34m(\u001b[0m\u001b[0mself\u001b[0m\u001b[0;34m)\u001b[0m\u001b[0;34m:\u001b[0m\u001b[0;34m\u001b[0m\u001b[0;34m\u001b[0m\u001b[0m\n\u001b[0;32m--> 643\u001b[0;31m     \u001b[0;32mreturn\u001b[0m \u001b[0mcopy\u001b[0m\u001b[0;34m.\u001b[0m\u001b[0mdeepcopy\u001b[0m\u001b[0;34m(\u001b[0m\u001b[0mget_network_config\u001b[0m\u001b[0;34m(\u001b[0m\u001b[0mself\u001b[0m\u001b[0;34m)\u001b[0m\u001b[0;34m)\u001b[0m\u001b[0;34m\u001b[0m\u001b[0;34m\u001b[0m\u001b[0m\n\u001b[0m\u001b[1;32m    644\u001b[0m \u001b[0;34m\u001b[0m\u001b[0m\n\u001b[1;32m    645\u001b[0m   \u001b[0;34m@\u001b[0m\u001b[0mclassmethod\u001b[0m\u001b[0;34m\u001b[0m\u001b[0;34m\u001b[0m\u001b[0m\n",
            "\u001b[0;32m/usr/local/lib/python3.7/dist-packages/keras/engine/functional.py\u001b[0m in \u001b[0;36mget_network_config\u001b[0;34m(network, serialize_layer_fn)\u001b[0m\n\u001b[1;32m   1347\u001b[0m           \u001b[0mfiltered_inbound_nodes\u001b[0m\u001b[0;34m.\u001b[0m\u001b[0mappend\u001b[0m\u001b[0;34m(\u001b[0m\u001b[0mnode_data\u001b[0m\u001b[0;34m)\u001b[0m\u001b[0;34m\u001b[0m\u001b[0;34m\u001b[0m\u001b[0m\n\u001b[1;32m   1348\u001b[0m \u001b[0;34m\u001b[0m\u001b[0m\n\u001b[0;32m-> 1349\u001b[0;31m       \u001b[0mlayer_config\u001b[0m \u001b[0;34m=\u001b[0m \u001b[0mserialize_layer_fn\u001b[0m\u001b[0;34m(\u001b[0m\u001b[0mlayer\u001b[0m\u001b[0;34m)\u001b[0m\u001b[0;34m\u001b[0m\u001b[0;34m\u001b[0m\u001b[0m\n\u001b[0m\u001b[1;32m   1350\u001b[0m       \u001b[0mlayer_config\u001b[0m\u001b[0;34m[\u001b[0m\u001b[0;34m'name'\u001b[0m\u001b[0;34m]\u001b[0m \u001b[0;34m=\u001b[0m \u001b[0mlayer\u001b[0m\u001b[0;34m.\u001b[0m\u001b[0mname\u001b[0m\u001b[0;34m\u001b[0m\u001b[0;34m\u001b[0m\u001b[0m\n\u001b[1;32m   1351\u001b[0m       \u001b[0mlayer_config\u001b[0m\u001b[0;34m[\u001b[0m\u001b[0;34m'inbound_nodes'\u001b[0m\u001b[0;34m]\u001b[0m \u001b[0;34m=\u001b[0m \u001b[0mfiltered_inbound_nodes\u001b[0m\u001b[0;34m\u001b[0m\u001b[0;34m\u001b[0m\u001b[0m\n",
            "\u001b[0;32m/usr/local/lib/python3.7/dist-packages/keras/utils/generic_utils.py\u001b[0m in \u001b[0;36mserialize_keras_object\u001b[0;34m(instance)\u001b[0m\n\u001b[1;32m    506\u001b[0m         return serialize_keras_class_and_config(\n\u001b[1;32m    507\u001b[0m             name, {_LAYER_UNDEFINED_CONFIG_KEY: True})\n\u001b[0;32m--> 508\u001b[0;31m       \u001b[0;32mraise\u001b[0m \u001b[0me\u001b[0m\u001b[0;34m\u001b[0m\u001b[0;34m\u001b[0m\u001b[0m\n\u001b[0m\u001b[1;32m    509\u001b[0m     \u001b[0mserialization_config\u001b[0m \u001b[0;34m=\u001b[0m \u001b[0;34m{\u001b[0m\u001b[0;34m}\u001b[0m\u001b[0;34m\u001b[0m\u001b[0;34m\u001b[0m\u001b[0m\n\u001b[1;32m    510\u001b[0m     \u001b[0;32mfor\u001b[0m \u001b[0mkey\u001b[0m\u001b[0;34m,\u001b[0m \u001b[0mitem\u001b[0m \u001b[0;32min\u001b[0m \u001b[0mconfig\u001b[0m\u001b[0;34m.\u001b[0m\u001b[0mitems\u001b[0m\u001b[0;34m(\u001b[0m\u001b[0;34m)\u001b[0m\u001b[0;34m:\u001b[0m\u001b[0;34m\u001b[0m\u001b[0;34m\u001b[0m\u001b[0m\n",
            "\u001b[0;32m/usr/local/lib/python3.7/dist-packages/keras/utils/generic_utils.py\u001b[0m in \u001b[0;36mserialize_keras_object\u001b[0;34m(instance)\u001b[0m\n\u001b[1;32m    501\u001b[0m     \u001b[0mname\u001b[0m \u001b[0;34m=\u001b[0m \u001b[0mget_registered_name\u001b[0m\u001b[0;34m(\u001b[0m\u001b[0minstance\u001b[0m\u001b[0;34m.\u001b[0m\u001b[0m__class__\u001b[0m\u001b[0;34m)\u001b[0m\u001b[0;34m\u001b[0m\u001b[0;34m\u001b[0m\u001b[0m\n\u001b[1;32m    502\u001b[0m     \u001b[0;32mtry\u001b[0m\u001b[0;34m:\u001b[0m\u001b[0;34m\u001b[0m\u001b[0;34m\u001b[0m\u001b[0m\n\u001b[0;32m--> 503\u001b[0;31m       \u001b[0mconfig\u001b[0m \u001b[0;34m=\u001b[0m \u001b[0minstance\u001b[0m\u001b[0;34m.\u001b[0m\u001b[0mget_config\u001b[0m\u001b[0;34m(\u001b[0m\u001b[0;34m)\u001b[0m\u001b[0;34m\u001b[0m\u001b[0;34m\u001b[0m\u001b[0m\n\u001b[0m\u001b[1;32m    504\u001b[0m     \u001b[0;32mexcept\u001b[0m \u001b[0mNotImplementedError\u001b[0m \u001b[0;32mas\u001b[0m \u001b[0me\u001b[0m\u001b[0;34m:\u001b[0m\u001b[0;34m\u001b[0m\u001b[0;34m\u001b[0m\u001b[0m\n\u001b[1;32m    505\u001b[0m       \u001b[0;32mif\u001b[0m \u001b[0m_SKIP_FAILED_SERIALIZATION\u001b[0m\u001b[0;34m:\u001b[0m\u001b[0;34m\u001b[0m\u001b[0;34m\u001b[0m\u001b[0m\n",
            "\u001b[0;32m/usr/local/lib/python3.7/dist-packages/keras/engine/base_layer.py\u001b[0m in \u001b[0;36mget_config\u001b[0;34m(self)\u001b[0m\n\u001b[1;32m    727\u001b[0m       raise NotImplementedError('Layer %s has arguments in `__init__` and '\n\u001b[1;32m    728\u001b[0m                                 \u001b[0;34m'therefore must override `get_config`.'\u001b[0m \u001b[0;34m%\u001b[0m\u001b[0;34m\u001b[0m\u001b[0;34m\u001b[0m\u001b[0m\n\u001b[0;32m--> 729\u001b[0;31m                                 self.__class__.__name__)\n\u001b[0m\u001b[1;32m    730\u001b[0m     \u001b[0;32mreturn\u001b[0m \u001b[0mconfig\u001b[0m\u001b[0;34m\u001b[0m\u001b[0;34m\u001b[0m\u001b[0m\n\u001b[1;32m    731\u001b[0m \u001b[0;34m\u001b[0m\u001b[0m\n",
            "\u001b[0;31mNotImplementedError\u001b[0m: Layer Patches has arguments in `__init__` and therefore must override `get_config`."
          ]
        }
      ]
    },
    {
      "cell_type": "code",
      "metadata": {
        "id": "N6ffQFnRtvEa"
      },
      "source": [
        "from keras.models import load_model\n",
        "model = load_model('/content/models/classifierw.h5')"
      ],
      "execution_count": null,
      "outputs": []
    }
  ]
}